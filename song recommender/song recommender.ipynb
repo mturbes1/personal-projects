{
 "cells": [
  {
   "cell_type": "code",
   "execution_count": 22,
   "metadata": {},
   "outputs": [],
   "source": [
    "import pandas as pd\n",
    "import numpy as np\n"
   ]
  },
  {
   "cell_type": "code",
   "execution_count": 23,
   "metadata": {},
   "outputs": [],
   "source": [
    "df = pd.read_csv(\"spotify_songs.csv\")"
   ]
  },
  {
   "cell_type": "code",
   "execution_count": 24,
   "metadata": {},
   "outputs": [],
   "source": [
    "df = df.sample(25000).reset_index(drop=True)"
   ]
  },
  {
   "cell_type": "code",
   "execution_count": 25,
   "metadata": {},
   "outputs": [],
   "source": [
    "df = df.drop_duplicates(subset=['track_name', 'track_artist'])"
   ]
  },
  {
   "cell_type": "code",
   "execution_count": 26,
   "metadata": {},
   "outputs": [],
   "source": [
    "df['id'] = range(0, len(df))"
   ]
  },
  {
   "cell_type": "code",
   "execution_count": 27,
   "metadata": {},
   "outputs": [
    {
     "data": {
      "text/html": [
       "<div>\n",
       "<style scoped>\n",
       "    .dataframe tbody tr th:only-of-type {\n",
       "        vertical-align: middle;\n",
       "    }\n",
       "\n",
       "    .dataframe tbody tr th {\n",
       "        vertical-align: top;\n",
       "    }\n",
       "\n",
       "    .dataframe thead th {\n",
       "        text-align: right;\n",
       "    }\n",
       "</style>\n",
       "<table border=\"1\" class=\"dataframe\">\n",
       "  <thead>\n",
       "    <tr style=\"text-align: right;\">\n",
       "      <th></th>\n",
       "      <th>track_id</th>\n",
       "      <th>track_name</th>\n",
       "      <th>track_artist</th>\n",
       "      <th>track_popularity</th>\n",
       "      <th>track_album_id</th>\n",
       "      <th>track_album_name</th>\n",
       "      <th>track_album_release_date</th>\n",
       "      <th>playlist_name</th>\n",
       "      <th>playlist_id</th>\n",
       "      <th>playlist_genre</th>\n",
       "      <th>...</th>\n",
       "      <th>loudness</th>\n",
       "      <th>mode</th>\n",
       "      <th>speechiness</th>\n",
       "      <th>acousticness</th>\n",
       "      <th>instrumentalness</th>\n",
       "      <th>liveness</th>\n",
       "      <th>valence</th>\n",
       "      <th>tempo</th>\n",
       "      <th>duration_ms</th>\n",
       "      <th>id</th>\n",
       "    </tr>\n",
       "  </thead>\n",
       "  <tbody>\n",
       "    <tr>\n",
       "      <th>0</th>\n",
       "      <td>39shmbIHICJ2Wxnk1fPSdz</td>\n",
       "      <td>Should I Stay or Should I Go - Remastered</td>\n",
       "      <td>The Clash</td>\n",
       "      <td>79</td>\n",
       "      <td>1ZH5g1RDq3GY1OvyD0w0s2</td>\n",
       "      <td>Combat Rock (Remastered)</td>\n",
       "      <td>1982</td>\n",
       "      <td>The Sound of Permanent Wave</td>\n",
       "      <td>4EYSGTuqe9cVfSVpX4gtGv</td>\n",
       "      <td>rock</td>\n",
       "      <td>...</td>\n",
       "      <td>-6.463</td>\n",
       "      <td>1</td>\n",
       "      <td>0.1150</td>\n",
       "      <td>0.07900</td>\n",
       "      <td>0.000000</td>\n",
       "      <td>0.384</td>\n",
       "      <td>0.816</td>\n",
       "      <td>113.375</td>\n",
       "      <td>188987</td>\n",
       "      <td>0</td>\n",
       "    </tr>\n",
       "    <tr>\n",
       "      <th>1</th>\n",
       "      <td>1cU34sZG9kF4FYHCoAD0Ib</td>\n",
       "      <td>Some Kind Of Wonderful - Remastered 1999</td>\n",
       "      <td>Grand Funk Railroad</td>\n",
       "      <td>60</td>\n",
       "      <td>0ib2UtSmLGssyqyoY6X8cm</td>\n",
       "      <td>30 Years Of Funk: 1969-1999 The Anthology</td>\n",
       "      <td>1999-01-01</td>\n",
       "      <td>HARD ROCK CAFE</td>\n",
       "      <td>55ybnG2z8rpTIerRfnCsw6</td>\n",
       "      <td>rock</td>\n",
       "      <td>...</td>\n",
       "      <td>-6.510</td>\n",
       "      <td>1</td>\n",
       "      <td>0.0514</td>\n",
       "      <td>0.14400</td>\n",
       "      <td>0.000000</td>\n",
       "      <td>0.360</td>\n",
       "      <td>0.647</td>\n",
       "      <td>121.472</td>\n",
       "      <td>202733</td>\n",
       "      <td>1</td>\n",
       "    </tr>\n",
       "    <tr>\n",
       "      <th>2</th>\n",
       "      <td>5hOaRdlUqUSZ5nv8kQx1DF</td>\n",
       "      <td>Don't You (Forget About Me)</td>\n",
       "      <td>The Wind and The Wave</td>\n",
       "      <td>45</td>\n",
       "      <td>34WkSeCkKh4wMsz7AFtU0F</td>\n",
       "      <td>Covers One</td>\n",
       "      <td>2015-02-17</td>\n",
       "      <td>Bluegrass Covers</td>\n",
       "      <td>37i9dQZF1DX56crgoe4TG3</td>\n",
       "      <td>r&amp;b</td>\n",
       "      <td>...</td>\n",
       "      <td>-4.409</td>\n",
       "      <td>1</td>\n",
       "      <td>0.0387</td>\n",
       "      <td>0.00324</td>\n",
       "      <td>0.029500</td>\n",
       "      <td>0.367</td>\n",
       "      <td>0.666</td>\n",
       "      <td>119.978</td>\n",
       "      <td>249587</td>\n",
       "      <td>2</td>\n",
       "    </tr>\n",
       "    <tr>\n",
       "      <th>3</th>\n",
       "      <td>4i2OsaRNDW7Jr3KqUb4xfw</td>\n",
       "      <td>Her (Loving You)</td>\n",
       "      <td>Glades</td>\n",
       "      <td>35</td>\n",
       "      <td>1Ezvo2RC12cFqbJSdSzQXv</td>\n",
       "      <td>Her (Loving You)</td>\n",
       "      <td>2015-10-07</td>\n",
       "      <td>Indie Poptimism</td>\n",
       "      <td>21nxmipQe5xtXoHHPaYfnY</td>\n",
       "      <td>pop</td>\n",
       "      <td>...</td>\n",
       "      <td>-4.252</td>\n",
       "      <td>1</td>\n",
       "      <td>0.0649</td>\n",
       "      <td>0.05420</td>\n",
       "      <td>0.000349</td>\n",
       "      <td>0.130</td>\n",
       "      <td>0.311</td>\n",
       "      <td>176.000</td>\n",
       "      <td>215353</td>\n",
       "      <td>3</td>\n",
       "    </tr>\n",
       "    <tr>\n",
       "      <th>4</th>\n",
       "      <td>4yxSvdt8kl6jMdvFaiNtve</td>\n",
       "      <td>Lucky Love</td>\n",
       "      <td>Michael Seyer</td>\n",
       "      <td>54</td>\n",
       "      <td>5p3gsTRh2rd4cZfNjyVgln</td>\n",
       "      <td>Bad Bonez</td>\n",
       "      <td>2018-03-07</td>\n",
       "      <td>②⓪①⑨ mixed</td>\n",
       "      <td>2bOjjgN1S3Gqd8vSMyafvJ</td>\n",
       "      <td>rock</td>\n",
       "      <td>...</td>\n",
       "      <td>-13.288</td>\n",
       "      <td>1</td>\n",
       "      <td>0.0263</td>\n",
       "      <td>0.47400</td>\n",
       "      <td>0.003660</td>\n",
       "      <td>0.105</td>\n",
       "      <td>0.234</td>\n",
       "      <td>143.966</td>\n",
       "      <td>286186</td>\n",
       "      <td>4</td>\n",
       "    </tr>\n",
       "  </tbody>\n",
       "</table>\n",
       "<p>5 rows × 24 columns</p>\n",
       "</div>"
      ],
      "text/plain": [
       "                 track_id                                 track_name  \\\n",
       "0  39shmbIHICJ2Wxnk1fPSdz  Should I Stay or Should I Go - Remastered   \n",
       "1  1cU34sZG9kF4FYHCoAD0Ib   Some Kind Of Wonderful - Remastered 1999   \n",
       "2  5hOaRdlUqUSZ5nv8kQx1DF                Don't You (Forget About Me)   \n",
       "3  4i2OsaRNDW7Jr3KqUb4xfw                           Her (Loving You)   \n",
       "4  4yxSvdt8kl6jMdvFaiNtve                                 Lucky Love   \n",
       "\n",
       "            track_artist  track_popularity          track_album_id  \\\n",
       "0              The Clash                79  1ZH5g1RDq3GY1OvyD0w0s2   \n",
       "1    Grand Funk Railroad                60  0ib2UtSmLGssyqyoY6X8cm   \n",
       "2  The Wind and The Wave                45  34WkSeCkKh4wMsz7AFtU0F   \n",
       "3                 Glades                35  1Ezvo2RC12cFqbJSdSzQXv   \n",
       "4          Michael Seyer                54  5p3gsTRh2rd4cZfNjyVgln   \n",
       "\n",
       "                            track_album_name track_album_release_date  \\\n",
       "0                   Combat Rock (Remastered)                     1982   \n",
       "1  30 Years Of Funk: 1969-1999 The Anthology               1999-01-01   \n",
       "2                                 Covers One               2015-02-17   \n",
       "3                           Her (Loving You)               2015-10-07   \n",
       "4                                  Bad Bonez               2018-03-07   \n",
       "\n",
       "                 playlist_name             playlist_id playlist_genre  ...  \\\n",
       "0  The Sound of Permanent Wave  4EYSGTuqe9cVfSVpX4gtGv           rock  ...   \n",
       "1               HARD ROCK CAFE  55ybnG2z8rpTIerRfnCsw6           rock  ...   \n",
       "2             Bluegrass Covers  37i9dQZF1DX56crgoe4TG3            r&b  ...   \n",
       "3              Indie Poptimism  21nxmipQe5xtXoHHPaYfnY            pop  ...   \n",
       "4                   ②⓪①⑨ mixed  2bOjjgN1S3Gqd8vSMyafvJ           rock  ...   \n",
       "\n",
       "  loudness  mode  speechiness  acousticness  instrumentalness  liveness  \\\n",
       "0   -6.463     1       0.1150       0.07900          0.000000     0.384   \n",
       "1   -6.510     1       0.0514       0.14400          0.000000     0.360   \n",
       "2   -4.409     1       0.0387       0.00324          0.029500     0.367   \n",
       "3   -4.252     1       0.0649       0.05420          0.000349     0.130   \n",
       "4  -13.288     1       0.0263       0.47400          0.003660     0.105   \n",
       "\n",
       "   valence    tempo  duration_ms  id  \n",
       "0    0.816  113.375       188987   0  \n",
       "1    0.647  121.472       202733   1  \n",
       "2    0.666  119.978       249587   2  \n",
       "3    0.311  176.000       215353   3  \n",
       "4    0.234  143.966       286186   4  \n",
       "\n",
       "[5 rows x 24 columns]"
      ]
     },
     "execution_count": 27,
     "metadata": {},
     "output_type": "execute_result"
    }
   ],
   "source": [
    "df.head()"
   ]
  },
  {
   "cell_type": "markdown",
   "metadata": {},
   "source": [
    "Specify features for content-based filtering"
   ]
  },
  {
   "cell_type": "code",
   "execution_count": 28,
   "metadata": {},
   "outputs": [],
   "source": [
    "features = ['track_artist', 'track_album_name', 'playlist_genre', 'energy', 'key', 'tempo']"
   ]
  },
  {
   "cell_type": "code",
   "execution_count": 29,
   "metadata": {},
   "outputs": [],
   "source": [
    "for feature in features:\n",
    "\tdf[feature] = df[feature].fillna('')"
   ]
  },
  {
   "cell_type": "code",
   "execution_count": 30,
   "metadata": {},
   "outputs": [],
   "source": [
    "def combine_features(row):\n",
    "    return (\n",
    "        row['track_artist'] + \" \" +\n",
    "        row['track_album_name'] + \" \" +\n",
    "        row['playlist_genre'] + \" \" +\n",
    "        str(row['energy']) + \" \" +\n",
    "        str(row['key']) + \" \" +\n",
    "        str(row['tempo'])\n",
    "    )"
   ]
  },
  {
   "cell_type": "code",
   "execution_count": 31,
   "metadata": {},
   "outputs": [],
   "source": [
    "df[\"combined_features\"] = df.apply(combine_features, axis=1)"
   ]
  },
  {
   "cell_type": "code",
   "execution_count": 32,
   "metadata": {},
   "outputs": [],
   "source": [
    "from sklearn.feature_extraction.text import CountVectorizer\n",
    "from sklearn.metrics.pairwise import cosine_similarity"
   ]
  },
  {
   "cell_type": "code",
   "execution_count": 33,
   "metadata": {},
   "outputs": [],
   "source": [
    "cv = CountVectorizer()"
   ]
  },
  {
   "cell_type": "code",
   "execution_count": 34,
   "metadata": {},
   "outputs": [],
   "source": [
    "count_matrix = cv.fit_transform(df[\"combined_features\"])"
   ]
  },
  {
   "cell_type": "markdown",
   "metadata": {},
   "source": [
    "Find cosine similarity"
   ]
  },
  {
   "cell_type": "code",
   "execution_count": 35,
   "metadata": {},
   "outputs": [],
   "source": [
    "similar = cosine_similarity(count_matrix)"
   ]
  },
  {
   "cell_type": "markdown",
   "metadata": {},
   "source": [
    "Helper Functions"
   ]
  },
  {
   "cell_type": "code",
   "execution_count": 36,
   "metadata": {},
   "outputs": [],
   "source": [
    "def get_title_from_index(index):\n",
    "    filtered_df = df[df.id == index]\n",
    "    if not filtered_df.empty:\n",
    "        return filtered_df[\"track_name\"].values[0]\n",
    "    else:\n",
    "        return None\n",
    "\n",
    "def get_index_from_title(title):\n",
    "\treturn df[df.track_name == title][\"id\"].values[0]\n",
    "\n",
    "def get_artist_from_index(index):\n",
    "    filtered_df = df[df.id == index]\n",
    "    if not filtered_df.empty:\n",
    "        return filtered_df[\"track_artist\"].values[0]\n",
    "    else:\n",
    "        return None"
   ]
  },
  {
   "cell_type": "markdown",
   "metadata": {},
   "source": [
    "Recommender Function"
   ]
  },
  {
   "cell_type": "code",
   "execution_count": 37,
   "metadata": {},
   "outputs": [],
   "source": [
    "def recommend(song):\n",
    "    song_index = get_index_from_title(song)\n",
    "    similar_songs = list(enumerate(similar[song_index]))\n",
    "    sorted_similar_songs = sorted(similar_songs, key= lambda x:x[1], reverse=True)\n",
    "    return sorted_similar_songs"
   ]
  },
  {
   "cell_type": "markdown",
   "metadata": {},
   "source": [
    "Test Model"
   ]
  },
  {
   "cell_type": "code",
   "execution_count": 38,
   "metadata": {},
   "outputs": [],
   "source": [
    "sorted_similar_songs = recommend(\"Adventure of a Lifetime\")"
   ]
  },
  {
   "cell_type": "code",
   "execution_count": 39,
   "metadata": {},
   "outputs": [
    {
     "name": "stdout",
     "output_type": "stream",
     "text": [
      "Hymn for the Weekend, Coldplay\n",
      "The Scientist, Coldplay\n",
      "Clocks, Coldplay\n",
      "City Of Dreams - Radio Edit, Dirty South\n",
      "Ghost Story, Coldplay\n",
      "Locked Away, R. City\n",
      "Down, Brandyn Burnette\n",
      "O - Reprise, Coldplay\n",
      "Sweet Dreams (Are Made of This), Winati\n",
      "Sweet Dreams (Are Made of This) - Remastered, Eurythmics\n",
      "Fix You, Coldplay\n",
      "Peach, Broods\n",
      "Daydreams - Sultan + Shepard Echoes Of Life Remix, ARTY\n",
      "Little Talks, Of Monsters and Men\n",
      "From Finner, Of Monsters and Men\n",
      "Beautiful Life, Ace of Base\n",
      "We Sink, Of Monsters and Men\n",
      "King And Lionheart, Of Monsters and Men\n",
      "A Sky Full of Stars - Robin Schulz Edit, Coldplay\n",
      "Set Fire to the Rain, Adele\n",
      "My Love (feat. Major Lazer, WizKid, Dua Lipa), Wale\n",
      "Telecommunication, A Flock Of Seagulls\n",
      "The More You Live, The More You Love, A Flock Of Seagulls\n",
      "Honey, Erykah Badu\n",
      "Fight Song, Rachel Platten\n",
      "Happier - Breathe Carolina Remix, Marshmello\n",
      "Lemontree, Julian Daniel\n",
      "i miss the old u, blackbear\n",
      "Paradise, Coldplay\n",
      "In The Middle, dodie\n",
      "Yellow, Coldplay\n",
      "Silver Bombs, [:SITD:]\n",
      "All Day And Night, Jax Jones\n",
      "Room Full of Toys, L.B.\n",
      "Nostalgia, MØ\n",
      "Rift Valley, K.E.E.N.E.\n",
      "Joyride, SONIA\n",
      "Skin, Boy Untitled\n",
      "American Spirit, Meg & Dia\n",
      "She Looks So Perfect, 5 Seconds of Summer\n",
      "Polish Girl, Neon Indian\n",
      "Heartbreak, Age of Consent\n",
      "head first, Christian French\n",
      "Lovely, Fly By Midnight\n",
      "Miami 82 - Kygo Remix, Syn Cole\n",
      "Somebody Dance with Me, DJ Bobo\n",
      "I Feel The Love, Tritonal\n",
      "You Were Meant For Me, Jewel\n",
      "You Keep Calling, BAARD\n",
      "Body Language (feat. Usher & Tinashe), Kid Ink\n"
     ]
    }
   ],
   "source": [
    "i = 0\n",
    "for song in sorted_similar_songs:\n",
    "\tif i == 0:\n",
    "\t\ti+=1\n",
    "\t\tcontinue\n",
    "\tprint(get_title_from_index(song[0]) + \", \" + get_artist_from_index(song[0]))\n",
    "\ti+=1\n",
    "\tif i > 50:\n",
    "\t\tbreak "
   ]
  },
  {
   "cell_type": "markdown",
   "metadata": {},
   "source": [
    "Export pickle files for use in python"
   ]
  },
  {
   "cell_type": "code",
   "execution_count": 40,
   "metadata": {},
   "outputs": [],
   "source": [
    "import pickle"
   ]
  },
  {
   "cell_type": "code",
   "execution_count": 41,
   "metadata": {},
   "outputs": [],
   "source": [
    "pickle.dump(similar, open(\"models/similarity.pkl\", \"wb\"))"
   ]
  },
  {
   "cell_type": "code",
   "execution_count": 42,
   "metadata": {},
   "outputs": [],
   "source": [
    "pickle.dump(df, open(\"models/df.pkl\", \"wb\"))"
   ]
  }
 ],
 "metadata": {
  "kernelspec": {
   "display_name": "Python 3",
   "language": "python",
   "name": "python3"
  },
  "language_info": {
   "codemirror_mode": {
    "name": "ipython",
    "version": 3
   },
   "file_extension": ".py",
   "mimetype": "text/x-python",
   "name": "python",
   "nbconvert_exporter": "python",
   "pygments_lexer": "ipython3",
   "version": "3.12.4"
  }
 },
 "nbformat": 4,
 "nbformat_minor": 2
}
